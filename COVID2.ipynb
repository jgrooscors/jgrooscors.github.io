{
 "cells": [
  {
   "cell_type": "code",
   "execution_count": 5,
   "metadata": {
    "scrolled": false
   },
   "outputs": [
    {
     "data": {
      "application/vnd.jupyter.widget-view+json": {
       "model_id": "1e1c66b3b70d4da3a1a5aee6fccfac9c",
       "version_major": 2,
       "version_minor": 0
      },
      "text/plain": [
       "interactive(children=(IntSlider(value=37, description='inflexion', max=55, min=20), IntSlider(value=8500, desc…"
      ]
     },
     "metadata": {},
     "output_type": "display_data"
    },
    {
     "data": {
      "text/plain": [
       "<function __main__.pltma(inflexion, maximo, inicio)>"
      ]
     },
     "execution_count": 5,
     "metadata": {},
     "output_type": "execute_result"
    }
   ],
   "source": [
    "import matplotlib.pyplot as plt\n",
    "import pandas as pd\n",
    "import pylab as pl\n",
    "import numpy as np\n",
    "import scipy.optimize as opt\n",
    "import matplotlib.pyplot as plt\n",
    "%matplotlib inline\n",
    "from ipywidgets import widgets\n",
    "from ipywidgets import interact\n",
    "from IPython.display import display\n",
    "from scipy.optimize import curve_fit\n",
    "\n",
    "data = {'Dia':[1,2,3,4,5,6,7,8,9,10,11,12,13,14,15,16,17,18,19,20,21,22,23,24,25,26,27,28,29,30,31,32,33,34,35,36,37,38,39,40,41,42,43,44, 45, 46, 47, 48, 49, 50, 51, 52, 53, 54, 55, 56, 57, 58, 59, 60, 61, 62, 63, 64, 65, 66, 67],'Casos':[8,14,27,36,43,55,69,86,10,137,200,245,313,345,443,558,674,786,901,998,1093,1201,1335,1493,1691,1855,2042,2208,2375,2528,2756,2974,3234,3400,3472,3574,3751,4016,4210,4273,4667,4658,4821,4992, 5166, 5338, 5538, 5779, 6021, 6200, 6378, 6532, 6720, 7090, 0, 0, 0, 0, 0, 0, 0, 0, 0, 0, 0, 0, 0]}\n",
    "\n",
    "\n",
    "df = pd.DataFrame(data, columns = ['Dia', 'Casos'])\n",
    "\n",
    "    \n",
    "        \n",
    "def pltma(inflexion, maximo, inicio):\n",
    "    def f(x1, a, b, c, d):\n",
    "        return a / (1. + np.exp(-c * (x1 - d))) + b\n",
    "            \n",
    "    x1 = df['Dia']#.loc[1:61]\n",
    "    y1 = df['Casos']#.loc[1:61]\n",
    "    b_ = inicio\n",
    "    c_ = 0.090418717\n",
    "    a_= maximo\n",
    "    d_ = inflexion\n",
    "            \n",
    "    y_fit = f(x1, a_, b_, c_, d_)\n",
    "    fig, ax = plt.subplots(1, 1, figsize=(14, 8))\n",
    "    ax.plot(x1, y1, 'o',label='Casos reales')\n",
    "    ax.plot(x1, y_fit, '-',label=\"curva logistica\")\n",
    "    plt.legend()\n",
    "    \n",
    "interact(pltma, inflexion=(20,55,1), maximo=(5000,12000,100), inicio=(0,1000,50))\n",
    "           "
   ]
  },
  {
   "cell_type": "code",
   "execution_count": null,
   "metadata": {},
   "outputs": [],
   "source": []
  }
 ],
 "metadata": {
  "kernelspec": {
   "display_name": "Python 3",
   "language": "python",
   "name": "python3"
  },
  "language_info": {
   "codemirror_mode": {
    "name": "ipython",
    "version": 3
   },
   "file_extension": ".py",
   "mimetype": "text/x-python",
   "name": "python",
   "nbconvert_exporter": "python",
   "pygments_lexer": "ipython3",
   "version": "3.7.4"
  }
 },
 "nbformat": 4,
 "nbformat_minor": 2
}
